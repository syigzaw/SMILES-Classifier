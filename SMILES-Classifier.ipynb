{
 "cells": [
  {
   "cell_type": "code",
   "execution_count": 243,
   "metadata": {},
   "outputs": [],
   "source": [
    "import numpy as np\n",
    "import pandas as pd\n",
    "import tensorflow as tf\n",
    "from keras.models import Sequential\n",
    "from keras.layers import Embedding, Conv1D, GRU, Dense\n",
    "from keras.utils import to_categorical\n",
    "from keras.preprocessing.text import Tokenizer \n",
    "from sklearn.model_selection import train_test_split"
   ]
  },
  {
   "cell_type": "code",
   "execution_count": 29,
   "metadata": {},
   "outputs": [],
   "source": [
    "df = pd.read_csv(\"C:/Users/Samuel/Downloads/data.csv\")"
   ]
  },
  {
   "cell_type": "code",
   "execution_count": 45,
   "metadata": {},
   "outputs": [],
   "source": [
    "smiles = df.iloc[:,0]\n",
    "targets = df.iloc[:,1:13]\n",
    "smiles_train, smiles_test, targets_train, targets_test = train_test_split(smiles, targets, test_size=0.2)"
   ]
  },
  {
   "cell_type": "code",
   "execution_count": 249,
   "metadata": {},
   "outputs": [],
   "source": [
    "batch_size = 32\n",
    "tokenizer = Tokenizer(filters='', lower=False, char_level=True)\n",
    "tokenizer.fit_on_texts(smiles.values)\n",
    "one_hot_train = tokenizer.texts_to_sequences(smiles_train.values)\n",
    "one_hot_test = tokenizer.texts_to_sequences(smiles_test.values)\n",
    "for index, i in enumerate(one_hot_train):\n",
    "    one_hot_train[index] = np.pad(np.array(i), (0, 342 - len(one_hot_train[index])), mode='constant', constant_values=0)\n",
    "one_hot_train = np.array(one_hot_train)\n",
    "for index, i in enumerate(one_hot_test):\n",
    "    one_hot_test[index] = np.pad(np.array(i), (0, 342 - len(one_hot_test[index])), mode='constant', constant_values=0)\n",
    "one_hot_test = np.array(one_hot_test)\n",
    "model = Sequential()\n",
    "model.add(Embedding(len(tokenizer.index_docs) + 1, 50))\n",
    "model.add(Conv1D(filters=192, kernel_size=3, strides=1))\n",
    "model.add(GRU(units=224, return_sequences=True))\n",
    "model.add(GRU(units=384))\n",
    "model.add(Dense(12, activation='softmax'))\n",
    "model.compile(optimizer='rmsprop', loss='binary_crossentropy', metrics=['accuracy'])\n",
    "model.fit(one_hot_train, targets_train, epochs=100, validation_split=0.2)\n",
    "score = model.evaluate(one_hot_test, targets_test)\n",
    "print(score)\n"
   ]
  },
  {
   "cell_type": "code",
   "execution_count": null,
   "metadata": {},
   "outputs": [],
   "source": []
  }
 ],
 "metadata": {
  "kernelspec": {
   "display_name": "Python 3",
   "language": "python",
   "name": "python3"
  },
  "language_info": {
   "codemirror_mode": {
    "name": "ipython",
    "version": 3
   },
   "file_extension": ".py",
   "mimetype": "text/x-python",
   "name": "python",
   "nbconvert_exporter": "python",
   "pygments_lexer": "ipython3",
   "version": "3.6.7"
  }
 },
 "nbformat": 4,
 "nbformat_minor": 2
}
