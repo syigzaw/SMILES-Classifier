{
 "cells": [
  {
   "cell_type": "code",
   "execution_count": 32,
   "metadata": {},
   "outputs": [],
   "source": [
    "import numpy as np\n",
    "import pandas as pd\n",
    "import tensorflow as tf\n",
    "from sklearn.model_selection import train_test_split\n",
    "from keras.models import Sequential\n",
    "from keras.layers import Embedding, Conv1D, GRU, LSTM, Dense, Activation\n",
    "from keras.utils import to_categorical\n",
    "from keras.preprocessing.text import Tokenizer\n",
    "from keras.preprocessing.sequence import pad_sequences\n",
    "from keras.callbacks import TensorBoard"
   ]
  },
  {
   "cell_type": "code",
   "execution_count": 3,
   "metadata": {},
   "outputs": [],
   "source": [
    "df = pd.read_csv(\"./data.csv\")"
   ]
  },
  {
   "cell_type": "code",
   "execution_count": 18,
   "metadata": {},
   "outputs": [],
   "source": [
    "smiles = df.iloc[:,0]\n",
    "targets = df.iloc[:,1:13]\n",
    "targets.fillna(2, inplace=True)\n",
    "smiles_train, smiles_test, targets_train, targets_test = train_test_split(smiles, targets, test_size=0.2)"
   ]
  },
  {
   "cell_type": "code",
   "execution_count": 26,
   "metadata": {},
   "outputs": [],
   "source": [
    "batch_size = 32\n",
    "tokenizer = Tokenizer(filters='', lower=False, char_level=True)\n",
    "tokenizer.fit_on_texts(smiles.values)\n",
    "one_hot_train = tokenizer.texts_to_sequences(smiles_train.values)\n",
    "one_hot_test = tokenizer.texts_to_sequences(smiles_test.values)\n",
    "one_hot_train = pad_sequences(one_hot_train, padding='post')\n",
    "one_hot_test = pad_sequences(one_hot_test, padding='post')\n"
   ]
  },
  {
   "cell_type": "code",
   "execution_count": 33,
   "metadata": {},
   "outputs": [
    {
     "name": "stdout",
     "output_type": "stream",
     "text": [
      "_________________________________________________________________\n",
      "Layer (type)                 Output Shape              Param #   \n",
      "=================================================================\n",
      "embedding_13 (Embedding)     (None, 342, 50)           2800      \n",
      "_________________________________________________________________\n",
      "conv1d_13 (Conv1D)           (None, 338, 192)          48192     \n",
      "_________________________________________________________________\n",
      "lstm_3 (LSTM)                (None, 338, 224)          373632    \n",
      "_________________________________________________________________\n",
      "lstm_4 (LSTM)                (None, 384)               935424    \n",
      "_________________________________________________________________\n",
      "dense_9 (Dense)              (None, 12)                4620      \n",
      "_________________________________________________________________\n",
      "activation_1 (Activation)    (None, 12)                0         \n",
      "=================================================================\n",
      "Total params: 1,364,668\n",
      "Trainable params: 1,364,668\n",
      "Non-trainable params: 0\n",
      "_________________________________________________________________\n"
     ]
    }
   ],
   "source": [
    "model = Sequential()\n",
    "model.add(Embedding(len(tokenizer.index_docs) + 1, 50, input_length=one_hot_train.shape[1]))\n",
    "model.add(Conv1D(filters=192, kernel_size=5, activation='relu'))\n",
    "model.add(LSTM(units=224, return_sequences=True, activation='relu'))\n",
    "model.add(LSTM(units=384, activation='relu'))\n",
    "model.add(Dense(12))\n",
    "model.add(Activation('sigmoid'))\n",
    "model.compile(optimizer='rmsprop', loss='categorical_crossentropy', metrics=['accuracy'])\n",
    "model.summary()\n"
   ]
  },
  {
   "cell_type": "code",
   "execution_count": 29,
   "metadata": {},
   "outputs": [],
   "source": [
    "tensorboardCallback = TensorBoard()\n",
    "model.fit(one_hot_train, targets_train, epochs=100, validation_split=0.2, callbacks=[tensorboardCallback])\n",
    "score = model.evaluate(one_hot_test, targets_test)\n",
    "print(score)\n",
    "model.save('my_model.h5')"
   ]
  },
  {
   "cell_type": "code",
   "execution_count": null,
   "metadata": {},
   "outputs": [],
   "source": []
  }
 ],
 "metadata": {
  "kernelspec": {
   "display_name": "Python 3",
   "language": "python",
   "name": "python3"
  },
  "language_info": {
   "codemirror_mode": {
    "name": "ipython",
    "version": 3
   },
   "file_extension": ".py",
   "mimetype": "text/x-python",
   "name": "python",
   "nbconvert_exporter": "python",
   "pygments_lexer": "ipython3",
   "version": "3.6.7"
  }
 },
 "nbformat": 4,
 "nbformat_minor": 2
}
