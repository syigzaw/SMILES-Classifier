{
 "cells": [
  {
   "cell_type": "code",
   "execution_count": 24,
   "metadata": {},
   "outputs": [],
   "source": [
    "import numpy as np\n",
    "import pandas as pd\n",
    "import tensorflow as tf\n",
    "from sklearn.model_selection import train_test_split\n",
    "from keras.models import Sequential\n",
    "from keras.layers import Embedding, Conv1D, GRU, Dense\n",
    "from keras.utils import to_categorical\n",
    "from keras.preprocessing.text import Tokenizer\n",
    "from keras.preprocessing.sequence import pad_sequences\n",
    "from keras.callbacks import TensorBoard"
   ]
  },
  {
   "cell_type": "code",
   "execution_count": 3,
   "metadata": {},
   "outputs": [],
   "source": [
    "df = pd.read_csv(\"./data.csv\")"
   ]
  },
  {
   "cell_type": "code",
   "execution_count": 18,
   "metadata": {},
   "outputs": [],
   "source": [
    "smiles = df.iloc[:,0]\n",
    "targets = df.iloc[:,1:13]\n",
    "targets.fillna(2, inplace=True)\n",
    "smiles_train, smiles_test, targets_train, targets_test = train_test_split(smiles, targets, test_size=0.2)"
   ]
  },
  {
   "cell_type": "code",
   "execution_count": 26,
   "metadata": {},
   "outputs": [],
   "source": [
    "batch_size = 32\n",
    "tokenizer = Tokenizer(filters='', lower=False, char_level=True)\n",
    "tokenizer.fit_on_texts(smiles.values)\n",
    "one_hot_train = tokenizer.texts_to_sequences(smiles_train.values)\n",
    "one_hot_test = tokenizer.texts_to_sequences(smiles_test.values)\n",
    "one_hot_train = pad_sequences(one_hot_train, padding='post')\n",
    "one_hot_test = pad_sequences(one_hot_test, padding='post')\n"
   ]
  },
  {
   "cell_type": "code",
   "execution_count": 27,
   "metadata": {},
   "outputs": [
    {
     "name": "stdout",
     "output_type": "stream",
     "text": [
      "_________________________________________________________________\n",
      "Layer (type)                 Output Shape              Param #   \n",
      "=================================================================\n",
      "embedding_11 (Embedding)     (None, 342, 50)           2800      \n",
      "_________________________________________________________________\n",
      "conv1d_11 (Conv1D)           (None, 340, 192)          28992     \n",
      "_________________________________________________________________\n",
      "gru_21 (GRU)                 (None, 340, 224)          280224    \n",
      "_________________________________________________________________\n",
      "gru_22 (GRU)                 (None, 384)               701568    \n",
      "_________________________________________________________________\n",
      "dense_7 (Dense)              (None, 12)                4620      \n",
      "=================================================================\n",
      "Total params: 1,018,204\n",
      "Trainable params: 1,018,204\n",
      "Non-trainable params: 0\n",
      "_________________________________________________________________\n"
     ]
    }
   ],
   "source": [
    "model = Sequential()\n",
    "model.add(Embedding(len(tokenizer.index_docs) + 1, 50, input_length=one_hot_train.shape[1]))\n",
    "model.add(Conv1D(filters=192, kernel_size=3, strides=1))\n",
    "model.add(GRU(units=224, return_sequences=True))\n",
    "model.add(GRU(units=384))\n",
    "model.add(Dense(12, activation='softmax'))\n",
    "model.compile(optimizer='rmsprop', loss='categorical_crossentropy', metrics=['accuracy'])\n",
    "model.summary()\n",
    "tensorboardCallback = TensorBoard()\n"
   ]
  },
  {
   "cell_type": "code",
   "execution_count": 29,
   "metadata": {},
   "outputs": [],
   "source": [
    "model.fit(one_hot_train, targets_train, epochs=100, validation_split=0.2, callbacks=[tensorboardCallback])\n",
    "score = model.evaluate(one_hot_test, targets_test)\n",
    "print(score)\n",
    "model.save('my_model.h5')"
   ]
  },
  {
   "cell_type": "code",
   "execution_count": null,
   "metadata": {},
   "outputs": [],
   "source": []
  }
 ],
 "metadata": {
  "kernelspec": {
   "display_name": "Python 3",
   "language": "python",
   "name": "python3"
  },
  "language_info": {
   "codemirror_mode": {
    "name": "ipython",
    "version": 3
   },
   "file_extension": ".py",
   "mimetype": "text/x-python",
   "name": "python",
   "nbconvert_exporter": "python",
   "pygments_lexer": "ipython3",
   "version": "3.6.7"
  }
 },
 "nbformat": 4,
 "nbformat_minor": 2
}
